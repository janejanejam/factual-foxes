{
 "cells": [
  {
   "cell_type": "code",
   "execution_count": 14,
   "metadata": {},
   "outputs": [],
   "source": [
    "# Import libraries and dependencies\n",
    "from splinter import Browser\n",
    "from bs4 import BeautifulSoup as bs\n",
    "import pandas as pd\n",
    "import requests\n",
    "import time\n",
    "import calendar\n",
    "import random"
   ]
  },
  {
   "cell_type": "code",
   "execution_count": 4,
   "metadata": {},
   "outputs": [],
   "source": [
    "last_day = [calendar.monthlen(2020, i+1) for i in range(12)]\n",
    "\n",
    "month = [i+1 for i in range(8)]\n",
    "\n",
    "zipped = list(zip(month, last_day))\n",
    "\n"
   ]
  },
  {
   "cell_type": "code",
   "execution_count": 5,
   "metadata": {},
   "outputs": [],
   "source": [
    "# for _zip in zipped:\n",
    "#     url = f'https://trends.google.com/trends/explore?date=2020-{_zip[0]}-01%202020-{_zip[0]}-{_zip[1]}&geo=US'\n",
    "#     print(url)"
   ]
  },
  {
   "cell_type": "code",
   "execution_count": 17,
   "metadata": {},
   "outputs": [],
   "source": [
    "# Mac users\n",
    "executable_path = {'executable_path': '/usr/local/bin/chromedriver'}\n",
    "browser = Browser('chrome', **executable_path, headless=False)"
   ]
  },
  {
   "cell_type": "code",
   "execution_count": 18,
   "metadata": {},
   "outputs": [
    {
     "name": "stdout",
     "output_type": "stream",
     "text": [
      "https://trends.google.com/trends/explore?date=2020-1-01%202020-1-31&geo=US\n",
      "https://trends.google.com/trends/explore?date=2020-2-01%202020-2-29&geo=US\n",
      "https://trends.google.com/trends/explore?date=2020-3-01%202020-3-31&geo=US\n",
      "https://trends.google.com/trends/explore?date=2020-4-01%202020-4-30&geo=US\n",
      "https://trends.google.com/trends/explore?date=2020-5-01%202020-5-31&geo=US\n",
      "https://trends.google.com/trends/explore?date=2020-6-01%202020-6-30&geo=US\n",
      "https://trends.google.com/trends/explore?date=2020-7-01%202020-7-31&geo=US\n",
      "https://trends.google.com/trends/explore?date=2020-8-01%202020-8-31&geo=US\n"
     ]
    }
   ],
   "source": [
    "# Create empty list to append into\n",
    "queries_list = []\n",
    "\n",
    "# Loop through each month\n",
    "for _zip in zipped:\n",
    "    \n",
    "    # Set URL to scrape\n",
    "    url = f'https://trends.google.com/trends/explore?date=2020-{_zip[0]}-01%202020-{_zip[0]}-{_zip[1]}&geo=US'\n",
    "    print(url)\n",
    "    browser.visit(url)\n",
    "\n",
    "    # Add time delay\n",
    "    time.sleep(3)\n",
    "\n",
    "    # Scrape page into Soup\n",
    "    html = browser.html\n",
    "    soup = bs(html, \"html.parser\")\n",
    "\n",
    "    # Retrieve section \n",
    "    section = soup.find_all('widget', type='fe_related_queries')\n",
    "    \n",
    "    try:\n",
    "        label_text = [div.text for div in section[1].find_all(class_='label-text')]\n",
    "        \n",
    "    # Loop through each row to pull elements\n",
    "#     for section in sections:\n",
    "        queries_dict = {}\n",
    "        queries_dict['month']  = _zip[0]\n",
    "        queries_dict['label text'] = label_text\n",
    "        queries_list.append(queries_dict)\n",
    "    except:\n",
    "        next\n",
    "        \n",
    "# Close the browser after scraping\n",
    "browser.quit()"
   ]
  },
  {
   "cell_type": "code",
   "execution_count": 19,
   "metadata": {},
   "outputs": [
    {
     "data": {
      "text/html": [
       "<div>\n",
       "<style scoped>\n",
       "    .dataframe tbody tr th:only-of-type {\n",
       "        vertical-align: middle;\n",
       "    }\n",
       "\n",
       "    .dataframe tbody tr th {\n",
       "        vertical-align: top;\n",
       "    }\n",
       "\n",
       "    .dataframe thead th {\n",
       "        text-align: right;\n",
       "    }\n",
       "</style>\n",
       "<table border=\"1\" class=\"dataframe\">\n",
       "  <thead>\n",
       "    <tr style=\"text-align: right;\">\n",
       "      <th></th>\n",
       "      <th>month</th>\n",
       "      <th>keyword</th>\n",
       "    </tr>\n",
       "  </thead>\n",
       "  <tbody>\n",
       "    <tr>\n",
       "      <th>0</th>\n",
       "      <td>8</td>\n",
       "      <td>[ryan newman, iowa caucus results, roberto góm...</td>\n",
       "    </tr>\n",
       "    <tr>\n",
       "      <th>1</th>\n",
       "      <td>8</td>\n",
       "      <td>[coronavirus tips, covid, covid 19, shelter in...</td>\n",
       "    </tr>\n",
       "    <tr>\n",
       "      <th>2</th>\n",
       "      <td>8</td>\n",
       "      <td>[thank you coronavirus helpers, popular google...</td>\n",
       "    </tr>\n",
       "    <tr>\n",
       "      <th>3</th>\n",
       "      <td>8</td>\n",
       "      <td>[george floyd, murder hornet, ahmaud arbery, s...</td>\n",
       "    </tr>\n",
       "    <tr>\n",
       "      <th>4</th>\n",
       "      <td>8</td>\n",
       "      <td>[juneteenth, marsha p. johnson, bubba wallace,...</td>\n",
       "    </tr>\n",
       "    <tr>\n",
       "      <th>5</th>\n",
       "      <td>8</td>\n",
       "      <td>[naya rivera, dilhan eryurt, kelly preston, pa...</td>\n",
       "    </tr>\n",
       "    <tr>\n",
       "      <th>6</th>\n",
       "      <td>8</td>\n",
       "      <td>[beirut, vicki draves, covid-19 prevention, be...</td>\n",
       "    </tr>\n",
       "  </tbody>\n",
       "</table>\n",
       "</div>"
      ],
      "text/plain": [
       "   month                                            keyword\n",
       "0      8  [ryan newman, iowa caucus results, roberto góm...\n",
       "1      8  [coronavirus tips, covid, covid 19, shelter in...\n",
       "2      8  [thank you coronavirus helpers, popular google...\n",
       "3      8  [george floyd, murder hornet, ahmaud arbery, s...\n",
       "4      8  [juneteenth, marsha p. johnson, bubba wallace,...\n",
       "5      8  [naya rivera, dilhan eryurt, kelly preston, pa...\n",
       "6      8  [beirut, vicki draves, covid-19 prevention, be..."
      ]
     },
     "execution_count": 19,
     "metadata": {},
     "output_type": "execute_result"
    }
   ],
   "source": [
    "df"
   ]
  },
  {
   "cell_type": "code",
   "execution_count": 12,
   "metadata": {},
   "outputs": [
    {
     "data": {
      "text/html": [
       "<div>\n",
       "<style scoped>\n",
       "    .dataframe tbody tr th:only-of-type {\n",
       "        vertical-align: middle;\n",
       "    }\n",
       "\n",
       "    .dataframe tbody tr th {\n",
       "        vertical-align: top;\n",
       "    }\n",
       "\n",
       "    .dataframe thead th {\n",
       "        text-align: right;\n",
       "    }\n",
       "</style>\n",
       "<table border=\"1\" class=\"dataframe\">\n",
       "  <thead>\n",
       "    <tr style=\"text-align: right;\">\n",
       "      <th></th>\n",
       "      <th>month</th>\n",
       "      <th>label text</th>\n",
       "    </tr>\n",
       "  </thead>\n",
       "  <tbody>\n",
       "    <tr>\n",
       "      <th>0</th>\n",
       "      <td>2</td>\n",
       "      <td>[ryan newman, iowa caucus results, roberto góm...</td>\n",
       "    </tr>\n",
       "    <tr>\n",
       "      <th>1</th>\n",
       "      <td>3</td>\n",
       "      <td>[coronavirus tips, covid, covid 19, shelter in...</td>\n",
       "    </tr>\n",
       "    <tr>\n",
       "      <th>2</th>\n",
       "      <td>4</td>\n",
       "      <td>[thank you coronavirus helpers, popular google...</td>\n",
       "    </tr>\n",
       "    <tr>\n",
       "      <th>3</th>\n",
       "      <td>5</td>\n",
       "      <td>[george floyd, murder hornet, ahmaud arbery, s...</td>\n",
       "    </tr>\n",
       "    <tr>\n",
       "      <th>4</th>\n",
       "      <td>6</td>\n",
       "      <td>[juneteenth, marsha p. johnson, bubba wallace,...</td>\n",
       "    </tr>\n",
       "    <tr>\n",
       "      <th>5</th>\n",
       "      <td>7</td>\n",
       "      <td>[naya rivera, dilhan eryurt, kelly preston, pa...</td>\n",
       "    </tr>\n",
       "    <tr>\n",
       "      <th>6</th>\n",
       "      <td>8</td>\n",
       "      <td>[beirut, vicki draves, covid-19 prevention, be...</td>\n",
       "    </tr>\n",
       "  </tbody>\n",
       "</table>\n",
       "</div>"
      ],
      "text/plain": [
       "   month                                         label text\n",
       "0      2  [ryan newman, iowa caucus results, roberto góm...\n",
       "1      3  [coronavirus tips, covid, covid 19, shelter in...\n",
       "2      4  [thank you coronavirus helpers, popular google...\n",
       "3      5  [george floyd, murder hornet, ahmaud arbery, s...\n",
       "4      6  [juneteenth, marsha p. johnson, bubba wallace,...\n",
       "5      7  [naya rivera, dilhan eryurt, kelly preston, pa...\n",
       "6      8  [beirut, vicki draves, covid-19 prevention, be..."
      ]
     },
     "execution_count": 12,
     "metadata": {},
     "output_type": "execute_result"
    }
   ],
   "source": [
    "df_queries = pd.DataFrame(queries_list)\n",
    "df_queries"
   ]
  },
  {
   "cell_type": "code",
   "execution_count": 13,
   "metadata": {},
   "outputs": [],
   "source": [
    "df_queries.to_csv(path_or_buf = 'queries2020_2.csv')"
   ]
  },
  {
   "cell_type": "code",
   "execution_count": 148,
   "metadata": {},
   "outputs": [
    {
     "data": {
      "text/html": [
       "<div>\n",
       "<style scoped>\n",
       "    .dataframe tbody tr th:only-of-type {\n",
       "        vertical-align: middle;\n",
       "    }\n",
       "\n",
       "    .dataframe tbody tr th {\n",
       "        vertical-align: top;\n",
       "    }\n",
       "\n",
       "    .dataframe thead th {\n",
       "        text-align: right;\n",
       "    }\n",
       "</style>\n",
       "<table border=\"1\" class=\"dataframe\">\n",
       "  <thead>\n",
       "    <tr style=\"text-align: right;\">\n",
       "      <th></th>\n",
       "      <th>month</th>\n",
       "      <th>label text</th>\n",
       "    </tr>\n",
       "  </thead>\n",
       "  <tbody>\n",
       "    <tr>\n",
       "      <th>0</th>\n",
       "      <td>1</td>\n",
       "      <td>[coronavirus, kobe bryant, kobe, vanessa bryan...</td>\n",
       "    </tr>\n",
       "    <tr>\n",
       "      <th>1</th>\n",
       "      <td>2</td>\n",
       "      <td>[ryan newman, iowa caucus results, roberto góm...</td>\n",
       "    </tr>\n",
       "    <tr>\n",
       "      <th>2</th>\n",
       "      <td>3</td>\n",
       "      <td>[coronavirus tips, covid, stimulus check, covi...</td>\n",
       "    </tr>\n",
       "    <tr>\n",
       "      <th>3</th>\n",
       "      <td>4</td>\n",
       "      <td>[thank you coronavirus helpers, popular google...</td>\n",
       "    </tr>\n",
       "    <tr>\n",
       "      <th>4</th>\n",
       "      <td>5</td>\n",
       "      <td>[george floyd, ahmaud arbery, murder hornet, s...</td>\n",
       "    </tr>\n",
       "    <tr>\n",
       "      <th>5</th>\n",
       "      <td>6</td>\n",
       "      <td>[juneteenth, marsha p. johnson, bubba wallace,...</td>\n",
       "    </tr>\n",
       "    <tr>\n",
       "      <th>6</th>\n",
       "      <td>7</td>\n",
       "      <td>[naya rivera, dilhan eryurt, kelly preston, pa...</td>\n",
       "    </tr>\n",
       "    <tr>\n",
       "      <th>7</th>\n",
       "      <td>8</td>\n",
       "      <td>[covid-19 prevention, vicki draves, beirut, be...</td>\n",
       "    </tr>\n",
       "  </tbody>\n",
       "</table>\n",
       "</div>"
      ],
      "text/plain": [
       "   month                                         label text\n",
       "0      1  [coronavirus, kobe bryant, kobe, vanessa bryan...\n",
       "1      2  [ryan newman, iowa caucus results, roberto góm...\n",
       "2      3  [coronavirus tips, covid, stimulus check, covi...\n",
       "3      4  [thank you coronavirus helpers, popular google...\n",
       "4      5  [george floyd, ahmaud arbery, murder hornet, s...\n",
       "5      6  [juneteenth, marsha p. johnson, bubba wallace,...\n",
       "6      7  [naya rivera, dilhan eryurt, kelly preston, pa...\n",
       "7      8  [covid-19 prevention, vicki draves, beirut, be..."
      ]
     },
     "execution_count": 148,
     "metadata": {},
     "output_type": "execute_result"
    }
   ],
   "source": []
  },
  {
   "cell_type": "code",
   "execution_count": null,
   "metadata": {},
   "outputs": [],
   "source": []
  }
 ],
 "metadata": {
  "kernelspec": {
   "display_name": "Python 3",
   "language": "python",
   "name": "python3"
  },
  "language_info": {
   "codemirror_mode": {
    "name": "ipython",
    "version": 3
   },
   "file_extension": ".py",
   "mimetype": "text/x-python",
   "name": "python",
   "nbconvert_exporter": "python",
   "pygments_lexer": "ipython3",
   "version": "3.7.7"
  }
 },
 "nbformat": 4,
 "nbformat_minor": 4
}
